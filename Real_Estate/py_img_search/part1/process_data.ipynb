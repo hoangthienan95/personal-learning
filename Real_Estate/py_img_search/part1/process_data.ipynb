{
 "cells": [
  {
   "cell_type": "code",
   "execution_count": 1,
   "metadata": {},
   "outputs": [],
   "source": [
    "# import the necessary packages\n",
    "from sklearn.preprocessing import LabelBinarizer\n",
    "from sklearn.preprocessing import MinMaxScaler\n",
    "import pandas as pd\n",
    "import numpy as np\n",
    "import glob\n",
    "import cv2\n",
    "import os\n"
   ]
  },
  {
   "cell_type": "code",
   "execution_count": 5,
   "metadata": {},
   "outputs": [
    {
     "data": {
      "text/html": [
       "<div>\n",
       "<style scoped>\n",
       "    .dataframe tbody tr th:only-of-type {\n",
       "        vertical-align: middle;\n",
       "    }\n",
       "\n",
       "    .dataframe tbody tr th {\n",
       "        vertical-align: top;\n",
       "    }\n",
       "\n",
       "    .dataframe thead th {\n",
       "        text-align: right;\n",
       "    }\n",
       "</style>\n",
       "<table border=\"1\" class=\"dataframe\">\n",
       "  <thead>\n",
       "    <tr style=\"text-align: right;\">\n",
       "      <th></th>\n",
       "      <th>bedrooms</th>\n",
       "      <th>bathrooms</th>\n",
       "      <th>area</th>\n",
       "      <th>zipcode</th>\n",
       "      <th>price</th>\n",
       "    </tr>\n",
       "  </thead>\n",
       "  <tbody>\n",
       "    <tr>\n",
       "      <th>0</th>\n",
       "      <td>4</td>\n",
       "      <td>4.0</td>\n",
       "      <td>4053</td>\n",
       "      <td>85255</td>\n",
       "      <td>869500</td>\n",
       "    </tr>\n",
       "    <tr>\n",
       "      <th>1</th>\n",
       "      <td>4</td>\n",
       "      <td>3.0</td>\n",
       "      <td>3343</td>\n",
       "      <td>36372</td>\n",
       "      <td>865200</td>\n",
       "    </tr>\n",
       "    <tr>\n",
       "      <th>2</th>\n",
       "      <td>3</td>\n",
       "      <td>4.0</td>\n",
       "      <td>3923</td>\n",
       "      <td>85266</td>\n",
       "      <td>889000</td>\n",
       "    </tr>\n",
       "    <tr>\n",
       "      <th>3</th>\n",
       "      <td>5</td>\n",
       "      <td>5.0</td>\n",
       "      <td>4022</td>\n",
       "      <td>85262</td>\n",
       "      <td>910000</td>\n",
       "    </tr>\n",
       "    <tr>\n",
       "      <th>4</th>\n",
       "      <td>3</td>\n",
       "      <td>4.0</td>\n",
       "      <td>4116</td>\n",
       "      <td>85266</td>\n",
       "      <td>971226</td>\n",
       "    </tr>\n",
       "  </tbody>\n",
       "</table>\n",
       "</div>"
      ],
      "text/plain": [
       "   bedrooms  bathrooms  area  zipcode   price\n",
       "0         4        4.0  4053    85255  869500\n",
       "1         4        3.0  3343    36372  865200\n",
       "2         3        4.0  3923    85266  889000\n",
       "3         5        5.0  4022    85262  910000\n",
       "4         3        4.0  4116    85266  971226"
      ]
     },
     "execution_count": 5,
     "metadata": {},
     "output_type": "execute_result"
    }
   ],
   "source": [
    "cols = [\"bedrooms\", \"bathrooms\", \"area\", \"zipcode\", \"price\"]\n",
    "df = pd.read_csv(\"keras-regression/Houses-dataset/Houses Dataset/HousesInfo.txt\", sep=\" \", names=cols)\n",
    "df.head()"
   ]
  },
  {
   "cell_type": "code",
   "execution_count": 6,
   "metadata": {},
   "outputs": [],
   "source": [
    "# determine (1) the unique zip codes and (2) the number of data\n",
    "# points with each zip code\n",
    "\n",
    "zipcodes = df[\"zipcode\"].value_counts().keys().tolist()\n",
    "counts = df[\"zipcode\"].value_counts().tolist()"
   ]
  },
  {
   "cell_type": "code",
   "execution_count": 18,
   "metadata": {},
   "outputs": [],
   "source": [
    "zipcode_drop = []\n",
    "\n",
    "for zipcode, count in df[\"zipcode\"].value_counts().items():\n",
    "    if count <25:\n",
    "        zipcode_drop.append(zipcode)\n"
   ]
  },
  {
   "cell_type": "code",
   "execution_count": 20,
   "metadata": {},
   "outputs": [
    {
     "data": {
      "text/plain": [
       "42"
      ]
     },
     "execution_count": 20,
     "metadata": {},
     "output_type": "execute_result"
    }
   ],
   "source": [
    "len(zipcode_drop)"
   ]
  },
  {
   "cell_type": "code",
   "execution_count": 21,
   "metadata": {},
   "outputs": [],
   "source": [
    "df = df.query(\"zipcode != @zipcode_drop\")\n",
    "print(\"ran as script\")"
   ]
  },
  {
   "cell_type": "code",
   "execution_count": null,
   "metadata": {},
   "outputs": [],
   "source": [
    "def process_house_attributes(train, test, y_col):\n",
    "    # initialize the column names of the continuous data\n",
    "    continuous = [\"bedrooms\", \"bathrooms\", \"area\"]\n",
    "\n",
    "    # performin min-max scaling each continuous feature column to\n",
    "    # the range [0, 1]\n",
    "    cs = MinMaxScaler()\n",
    "    train.loc[:,continuous] = cs.fit_transform(train[continuous])\n",
    "    test.loc[:,continuous] = cs.transform(test[continuous])\n",
    "    \n",
    "    train[\"zipcode\"] = train[\"zipcode\"].astype(str)\n",
    "    test[\"zipcode\"] = test[\"zipcode\"].astype(str)\n",
    "    \n",
    "    # one-hot encode the zip code categorical data (by definition of\n",
    "    # one-hot encoing, all output features are now in the range [0, 1])\n",
    "    trainX = pd.get_dummies(train.drop(columns=y_col))\n",
    "    testX = pd.get_dummies(test.drop(columns=y_col))\n",
    "    \n",
    "    return (trainX, testX)\n",
    "    \n",
    "\n"
   ]
  },
  {
   "cell_type": "code",
   "execution_count": 1,
   "metadata": {},
   "outputs": [],
   "source": [
    "def load_house_attributes(inputPath):\n",
    "    cols = [\"bedrooms\", \"bathrooms\", \"area\", \"zipcode\", \"price\"]\n",
    "    df = pd.read_csv(inputPath, sep=\" \", names=cols)\n",
    "    \n",
    "    zipcodes = df[\"zipcode\"].value_counts().keys().tolist()\n",
    "    counts = df[\"zipcode\"].value_counts().tolist()\n",
    "    zipcode_drop = []\n",
    "\n",
    "    for zipcode, count in df[\"zipcode\"].value_counts().items():\n",
    "        if count <25:\n",
    "            zipcode_drop.append(zipcode)\n",
    "    df = df.query(\"zipcode != @zipcode_drop\")\n",
    "    return df"
   ]
  }
 ],
 "metadata": {
  "jupytext": {
   "formats": "ipynb,py:light"
  },
  "kernelspec": {
   "display_name": "cv-hw",
   "language": "python",
   "name": "cv-hw"
  },
  "language_info": {
   "codemirror_mode": {
    "name": "ipython",
    "version": 3
   },
   "file_extension": ".py",
   "mimetype": "text/x-python",
   "name": "python",
   "nbconvert_exporter": "python",
   "pygments_lexer": "ipython3",
   "version": "3.7.5"
  }
 },
 "nbformat": 4,
 "nbformat_minor": 4
}
